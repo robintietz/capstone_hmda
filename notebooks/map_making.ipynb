{
 "cells": [
  {
   "cell_type": "code",
   "execution_count": null,
   "id": "f1b3b6eb-6b83-4d12-8b3d-73e42ac6b34f",
   "metadata": {},
   "outputs": [],
   "source": [
    "import matplotlib.pyplot as plt\n",
    "import geopandas as gpd\n",
    "import pandas as pd\n",
    "import folium\n",
    "\n",
    "%matplotlib inline\n",
    "pd.set_option('display.max_columns', 500)"
   ]
  },
  {
   "cell_type": "code",
   "execution_count": null,
   "id": "986dcc46-e4d5-4fbb-b5ac-83ea1ccf7a4c",
   "metadata": {},
   "outputs": [],
   "source": [
    "applications = pd.read_csv('../data/pruned_data.csv', low_memory=False)\n",
    "applications"
   ]
  },
  {
   "cell_type": "code",
   "execution_count": null,
   "id": "f8fc6405-6f2b-4e6c-9ae2-b8333722660e",
   "metadata": {},
   "outputs": [],
   "source": [
    "tracts = gpd.read_file('../data/tract.json')\n",
    "ct_tracts = pd.read_csv('../data/2022tractcrosswalk.csv', usecols=[0,1])\n",
    "ct_tracts['tract_fips_2020'] = ['0' + str(tract) for tract in ct_tracts['tract_fips_2020']]\n",
    "ct_tracts['Tract_fips_2022'] = ['0' + str(tract) for tract in ct_tracts['Tract_fips_2022']]\n",
    "tract_mapping = {row['Tract_fips_2022']:row['tract_fips_2020'] for ind, row in ct_tracts.iterrows()}\n",
    "tracts['GEOID'] = tracts['GEOID'].replace(tract_mapping)\n",
    "tracts"
   ]
  },
  {
   "cell_type": "code",
   "execution_count": null,
   "id": "bf24e7a3-166b-44aa-9eea-f22256b3e9f8",
   "metadata": {},
   "outputs": [],
   "source": [
    "applications['census_string'] = [str(tract)[:-2] for tract in applications['census_tract']]\n",
    "applications['census_string'] = ['0'+ tract if len(tract) == 10 else tract for tract in applications['census_string']]\n",
    "applications.head()"
   ]
  },
  {
   "cell_type": "code",
   "execution_count": null,
   "id": "d800c71d-6447-4d65-a037-111e5ef72bbe",
   "metadata": {},
   "outputs": [],
   "source": [
    "approved = applications[(applications['action_taken'] == 1)]\n",
    "med_loan_value = approved.groupby('census_string')['loan_amount'].median()\n",
    "med_loan_value = med_loan_value.reset_index()\n",
    "med_loan_value.sort_values(by='loan_amount',ascending=False)"
   ]
  },
  {
   "cell_type": "code",
   "execution_count": null,
   "id": "2865da66-6047-4716-8f18-bcc8dabd39ee",
   "metadata": {},
   "outputs": [],
   "source": [
    "m = folium.Map(location=[40, -95], zoom_start=4, prefer_canvas=True)\n",
    "\n",
    "folium.Choropleth(\n",
    "    geo_data=tracts,\n",
    "    name=\"choropleth\",\n",
    "    data=med_loan_value,\n",
    "    columns=[\"census_string\", \"loan_amount\"],\n",
    "    key_on=\"feature.properties.GEOID\",\n",
    "    fill_color=\"PuBu\",\n",
    "    fill_opacity=0.7,\n",
    "    nan_fill_opacity = 0,\n",
    "    line_opacity=.01,\n",
    "    legend_name=\"Loan Amount\",\n",
    "    bins=[0,250_000,500_000,1_000_000,2_000_000,5_050_000]\n",
    ").add_to(m)\n",
    "\n",
    "folium.LayerControl().add_to(m)\n",
    "\n",
    "m"
   ]
  },
  {
   "cell_type": "code",
   "execution_count": null,
   "id": "fd14b3c1-d05e-4375-b328-c074580c101b",
   "metadata": {},
   "outputs": [],
   "source": [
    "applications = applications[applications['rate_spread'] != 'Exempt']"
   ]
  },
  {
   "cell_type": "code",
   "execution_count": null,
   "id": "4b54a27d-331d-455b-be60-f8133fa5d041",
   "metadata": {},
   "outputs": [],
   "source": [
    "applications['rate_spread'] = applications['rate_spread'].astype('float')"
   ]
  },
  {
   "cell_type": "code",
   "execution_count": null,
   "id": "8eaf2a38-1a58-4efc-a5a7-4cddee7ea1e3",
   "metadata": {},
   "outputs": [],
   "source": [
    "spreads = applications.groupby('census_string')['rate_spread'].median()"
   ]
  },
  {
   "cell_type": "code",
   "execution_count": null,
   "id": "16d58f69-4fd7-469f-95f3-33a2607d8df6",
   "metadata": {},
   "outputs": [],
   "source": [
    "m = folium.Map(location=[40, -95], zoom_start=4, prefer_canvas=True)\n",
    "\n",
    "folium.Choropleth(\n",
    "    geo_data=tracts,\n",
    "    name=\"choropleth\",\n",
    "    data=spreads,\n",
    "    columns=[\"census_string\", \"rate_spread\"],\n",
    "    key_on=\"feature.properties.GEOID\",\n",
    "    fill_color=\"PuBu\",\n",
    "    fill_opacity=0.7,\n",
    "    nan_fill_opacity = 0,\n",
    "    line_opacity=.01,\n",
    "    legend_name=\"Loan Amount\",\n",
    "    bins=[-5,-1,-0.5,0,0.5,1,2,3,5,10]\n",
    ").add_to(m)\n",
    "\n",
    "folium.LayerControl().add_to(m)\n",
    "\n",
    "m"
   ]
  },
  {
   "cell_type": "code",
   "execution_count": null,
   "id": "e440969c-3d27-4241-baeb-11fd8f905f03",
   "metadata": {},
   "outputs": [],
   "source": [
    "applications[applications['census_string'] == '36081056100']"
   ]
  },
  {
   "cell_type": "code",
   "execution_count": null,
   "id": "1c204db1-83bc-4947-9717-5ead0afc73e9",
   "metadata": {},
   "outputs": [],
   "source": [
    "applications['census_string'].value_counts()"
   ]
  },
  {
   "cell_type": "code",
   "execution_count": null,
   "id": "465e95c5-51fd-40ab-ba1a-592ac749e42a",
   "metadata": {},
   "outputs": [],
   "source": []
  }
 ],
 "metadata": {
  "kernelspec": {
   "display_name": "Python 3 (ipykernel)",
   "language": "python",
   "name": "python3"
  },
  "language_info": {
   "codemirror_mode": {
    "name": "ipython",
    "version": 3
   },
   "file_extension": ".py",
   "mimetype": "text/x-python",
   "name": "python",
   "nbconvert_exporter": "python",
   "pygments_lexer": "ipython3",
   "version": "3.11.5"
  }
 },
 "nbformat": 4,
 "nbformat_minor": 5
}
